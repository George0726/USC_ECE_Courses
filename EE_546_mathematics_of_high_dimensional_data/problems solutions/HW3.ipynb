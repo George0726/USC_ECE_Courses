{
 "cells": [
  {
   "cell_type": "code",
   "execution_count": 1,
   "metadata": {},
   "outputs": [],
   "source": [
    "import numpy as np\n",
    "import scipy as sp\n",
    "import time\n",
    "import matplotlib.pyplot as plt\n",
    "from sklearn.utils.extmath import randomized_svd"
   ]
  },
  {
   "cell_type": "code",
   "execution_count": 2,
   "metadata": {},
   "outputs": [],
   "source": [
    "m = 1000\n",
    "n = 100000\n",
    "r = 10\n",
    "\n",
    "X0 = np.random.randn(m, m)\n",
    "X, _ = np.linalg.qr(X0)\n",
    "\n",
    "Y0 = np.random.randn(n, m)\n",
    "Y, _ = np.linalg.qr(Y0)\n",
    "\n",
    "d = [10-i+1 if i <= 10 else 0.004 for i in range(1000)]\n",
    "D = np.diag(d)\n",
    "\n",
    "A = X.dot(D).dot(Y.T)"
   ]
  },
  {
   "cell_type": "code",
   "execution_count": 3,
   "metadata": {},
   "outputs": [],
   "source": [
    "def random_svd(A, c, r = 10):\n",
    "    \n",
    "    m,n = A.shape\n",
    "    norm_A = np.linalg.norm(A)\n",
    "    norm_Ai = np.array([np.linalg.norm(A[:, i]) for i in range(n)])\n",
    "    prob_n = norm_Ai ** 2 / norm_A ** 2\n",
    "    norm_Aj = np.array([np.linalg.norm(A[j, :]) for j in range(m)])\n",
    "    prob_m = norm_Aj ** 2 / norm_A ** 2\n",
    "    \n",
    "    kn = np.random.choice([i for i in range(n)],size = c,replace = True, p = prob_n)\n",
    "    km = np.random.choice([i for i in range(m)],size = c,replace = True, p = prob_m)\n",
    "    \n",
    "    B_U = A[:,kn]/(np.sqrt(c * prob_n[kn]).reshape(1,c))\n",
    "    B_V = A[km,:]/(np.sqrt(c * prob_m[km]).reshape(c,1))\n",
    "\n",
    "    U,_,_  = randomized_svd(B_U,n_components=r,n_iter=5,random_state=None)\n",
    "    _,_,V = randomized_svd(B_V,n_components=r,n_iter=5,random_state=None)\n",
    "    \n",
    "    return U,V"
   ]
  },
  {
   "cell_type": "code",
   "execution_count": 4,
   "metadata": {},
   "outputs": [
    {
     "name": "stdout",
     "output_type": "stream",
     "text": [
      "---SVD of A: 11.713820457458496 seconds ---\n"
     ]
    }
   ],
   "source": [
    "A_svd_start_time = time.time()\n",
    "\n",
    "U, _, V = sp.linalg.svd(a = A,full_matrices = False, lapack_driver =\"gesvd\")\n",
    "\n",
    "print(\"---SVD of A: %s seconds ---\" % (time.time() - A_svd_start_time))   "
   ]
  },
  {
   "cell_type": "code",
   "execution_count": 6,
   "metadata": {},
   "outputs": [
    {
     "name": "stdout",
     "output_type": "stream",
     "text": [
      "- Randomized SVD of A: 2.051309585571289 seconds for c = 10 ---\n"
     ]
    }
   ],
   "source": [
    "B_svd_start_time = time.time()\n",
    "\n",
    "U_hat,V_hat = random_svd(A,15)\n",
    "\n",
    "print(\"- Randomized SVD of A: %s seconds for c = %d ---\" % (time.time() - B_svd_start_time,r))"
   ]
  },
  {
   "cell_type": "code",
   "execution_count": 7,
   "metadata": {},
   "outputs": [],
   "source": [
    "def power_method(M1,eps = 1e-3, max_iter = 10000):\n",
    "    m,n = M1.shape\n",
    "    temp = np.random.randn(m,1)\n",
    "    diff = 1\n",
    "    \n",
    "    while np.linalg.norm(diff) > eps:\n",
    "        \n",
    "        t1 = M1.dot(M1.T.dot(temp))\n",
    "        t1 /= np.linalg.norm(t1)\n",
    "        diff = t1 - temp\n",
    "        \n",
    "        temp = t1\n",
    "        \n",
    "    norm_err = np.dot(temp.T,M1.dot(M1.T.dot(temp)))/(np.dot(temp.T,temp))\n",
    "    \n",
    "    return np.sqrt(np.abs(norm_err))\n",
    "\n",
    "def power_diff_method(M1, M2, eps = 1e-3, max_iter = 10000):\n",
    "    m,n = M1.shape\n",
    "    temp = np.random.randn(m,1)\n",
    "    diff = 1\n",
    "    \n",
    "    while np.linalg.norm(diff) < eps:\n",
    "        \n",
    "        t1 = M1.dot(M1.T.dot(temp)) - M2.dot(M2.T.dot(temp))\n",
    "        t1 /= np.linalg.norm(t1)\n",
    "        diff = t1 - temp\n",
    "    \n",
    "    t1 = np.dot(M1, np.dot(M1.T, temp))\n",
    "    t2 = np.dot(M2, np.dot(M2.T, temp))\n",
    "    norm_err = np.dot(temp.T,t1-t2)/(np.dot(temp.T,temp))\n",
    "    \n",
    "    return np.sqrt(np.abs(norm_err))"
   ]
  },
  {
   "cell_type": "markdown",
   "metadata": {},
   "source": [
    "#### However, note that to calculate the spectrum of the matrix $\\hat{U}_r\\hat{U}_r^T −U_rU_r^T$ you should probably apply the power method using $(\\hat{U}_r\\hat{U}_r^T −U_rU_r^T)^2$ as the power method directly on  $\\hat{U}_r\\hat{U}_r^T −U_rU_r^T$  will fail. Do you know why?"
   ]
  },
  {
   "cell_type": "markdown",
   "metadata": {},
   "source": [
    "#### Answer: Because when you use $(\\hat{U}_r\\hat{U}_r^T −U_rU_r^T)^2$, the cost calculation operations will increase obviously because the exists like $ \\hat{U}_r \\times (U_rU_r^Tx)$ which is the m * n multiplication, and the computer will fail to calculate"
   ]
  },
  {
   "cell_type": "code",
   "execution_count": 10,
   "metadata": {
    "scrolled": false
   },
   "outputs": [
    {
     "name": "stdout",
     "output_type": "stream",
     "text": [
      "------10 evectors satisfy accuracy 0.100000! U estimation error: 0.035603, V estimation error: 0.001840------\n",
      "------11 evectors satisfy accuracy 0.050000! U estimation error: 0.024714, V estimation error: 0.002581------\n",
      "------12 evectors dont satisfy accuracy 0.010000, U estimation error: 0.021782, V estimation error: 0.001686------\n",
      "------13 evectors dont satisfy accuracy 0.010000, U estimation error: 0.026047, V estimation error: 0.002361------\n",
      "------14 evectors dont satisfy accuracy 0.010000, U estimation error: 0.014232, V estimation error: 0.001707------\n",
      "------15 evectors dont satisfy accuracy 0.010000, U estimation error: 0.027897, V estimation error: 0.001790------\n",
      "------16 evectors dont satisfy accuracy 0.010000, U estimation error: 0.021104, V estimation error: 0.001722------\n",
      "------17 evectors dont satisfy accuracy 0.010000, U estimation error: 0.020510, V estimation error: 0.001475------\n",
      "------18 evectors dont satisfy accuracy 0.010000, U estimation error: 0.017766, V estimation error: 0.001376------\n",
      "------19 evectors dont satisfy accuracy 0.010000, U estimation error: 0.019322, V estimation error: 0.001112------\n",
      "------20 evectors dont satisfy accuracy 0.010000, U estimation error: 0.010468, V estimation error: 0.001144------\n",
      "------21 evectors dont satisfy accuracy 0.010000, U estimation error: 0.016356, V estimation error: 0.002081------\n",
      "------22 evectors dont satisfy accuracy 0.010000, U estimation error: 0.015243, V estimation error: 0.001213------\n",
      "------23 evectors dont satisfy accuracy 0.010000, U estimation error: 0.014058, V estimation error: 0.001464------\n",
      "------24 evectors satisfy accuracy 0.010000! U estimation error: 0.008240, V estimation error: 0.001170------\n"
     ]
    }
   ],
   "source": [
    "eps = [0.1, 0.05, 0.01] \n",
    "r = 10\n",
    "\n",
    "U_r = U[:,:10]\n",
    "V_r = V[:10, :]\n",
    "\n",
    "for c in range(r,200):\n",
    "    \n",
    "    err1_sum = []\n",
    "    err2_sum = []\n",
    "    err1_avr = 0\n",
    "    err2_avr = 0\n",
    "\n",
    "    for k in range(10):\n",
    "        U_hat_r,V_hat_r = random_svd(A,c,10)\n",
    "        \n",
    "        err1 = power_diff_method(U_r,U_hat_r)/power_method(U_r) \n",
    "        err2 = power_diff_method(V_r.T,V_hat_r.T)/power_method(V_r.T)\n",
    "        \n",
    "        err1_sum.append(err1)\n",
    "        err2_sum.append(err2)\n",
    "        \n",
    "    err1_avr = sum(err1_sum)/len(err1_sum) \n",
    "    err2_avr = sum(err2_sum)/len(err2_sum)\n",
    "\n",
    "    if len(eps) == 0 :\n",
    "        break\n",
    "    if err1_avr >= eps[0] or err2_avr >= eps[0]:\n",
    "        print(\"------%s evectors dont satisfy accuracy %f, U estimation error: %f, V estimation error: %f------\"%(c,eps[0],err1_avr,err2_avr))\n",
    "    else:\n",
    "        print(\"------%s evectors satisfy accuracy %f! U estimation error: %f, V estimation error: %f------\"%(c,eps[0],err1_avr,err2_avr))\n",
    "        eps = eps[1:]"
   ]
  },
  {
   "cell_type": "code",
   "execution_count": 14,
   "metadata": {},
   "outputs": [
    {
     "name": "stdout",
     "output_type": "stream",
     "text": [
      "------2 evectors for top 2 evectors satisfy accuracy 0.050000! U estimation error: 0.027710, V estimation error: 0.002714------\n",
      "------5 evectors for top 5 evectors satisfy accuracy 0.050000! U estimation error: 0.036260, V estimation error: 0.003062------\n",
      "------15 evectors for top 15 evectors satisfy accuracy 0.050000! U estimation error: 0.036586, V estimation error: 0.005854------\n",
      "------20 evectors for top 20 dont satisfy accuracy 0.050000, U estimation error: 0.064898, V estimation error: 0.006806------\n",
      "------21 evectors for top 20 dont satisfy accuracy 0.050000, U estimation error: 0.059031, V estimation error: 0.006900------\n",
      "------22 evectors for top 20 dont satisfy accuracy 0.050000, U estimation error: 0.052797, V estimation error: 0.006303------\n",
      "------23 evectors for top 20 dont satisfy accuracy 0.050000, U estimation error: 0.053817, V estimation error: 0.006454------\n",
      "------24 evectors for top 20 dont satisfy accuracy 0.050000, U estimation error: 0.053398, V estimation error: 0.006152------\n",
      "------25 evectors for top 20 dont satisfy accuracy 0.050000, U estimation error: 0.057870, V estimation error: 0.004631------\n",
      "------26 evectors for top 20 dont satisfy accuracy 0.050000, U estimation error: 0.056659, V estimation error: 0.006229------\n",
      "------27 evectors for top 20 dont satisfy accuracy 0.050000, U estimation error: 0.054943, V estimation error: 0.006007------\n",
      "------28 evectors for top 20 dont satisfy accuracy 0.050000, U estimation error: 0.065787, V estimation error: 0.006403------\n",
      "------29 evectors for top 20 dont satisfy accuracy 0.050000, U estimation error: 0.063903, V estimation error: 0.007691------\n",
      "------30 evectors for top 20 dont satisfy accuracy 0.050000, U estimation error: 0.060415, V estimation error: 0.007117------\n",
      "------31 evectors for top 20 dont satisfy accuracy 0.050000, U estimation error: 0.065187, V estimation error: 0.006406------\n",
      "------32 evectors for top 20 evectors satisfy accuracy 0.050000! U estimation error: 0.049341, V estimation error: 0.006865------\n"
     ]
    }
   ],
   "source": [
    "eps = 0.05\n",
    "r_repo = [2,5,15,20]\n",
    "c_repo = [] \n",
    "\n",
    "U_r = U[:,:10]\n",
    "V_r = V[:10, :]\n",
    "\n",
    "for r in r_repo:\n",
    "    \n",
    "    U_r = U[:,:r]\n",
    "    V_r = V[:r, :]\n",
    "    \n",
    "    for c in range(r,200):\n",
    "\n",
    "        err1_sum = []\n",
    "        err2_sum = []\n",
    "        err1_avr = 0\n",
    "        err2_avr = 0\n",
    "\n",
    "        for k in range(10):\n",
    "            U_hat_r,V_hat_r = random_svd(A,c,r)\n",
    "\n",
    "            err1 = power_diff_method(U_r,U_hat_r)/power_method(U_r) \n",
    "            err2 = power_diff_method(V_r.T,V_hat_r.T)/power_method(V_r.T)\n",
    "\n",
    "            err1_sum.append(err1)\n",
    "            err2_sum.append(err2)\n",
    "\n",
    "        err1_avr = sum(err1_sum)/len(err1_sum) \n",
    "        err2_avr = sum(err2_sum)/len(err2_sum)\n",
    "        \n",
    "        if err1_avr >= eps or err2_avr >= eps:\n",
    "            print(\"------%s evectors for top %s dont satisfy accuracy %f, U estimation error: %f, V estimation error: %f------\"%(c,r,eps,err1_avr,err2_avr))\n",
    "        else:\n",
    "            print(\"------%s evectors for top %s evectors satisfy accuracy %f! U estimation error: %f, V estimation error: %f------\"%(c,r,eps,err1_avr,err2_avr))\n",
    "            c_repo.append(c)\n",
    "            break"
   ]
  },
  {
   "cell_type": "code",
   "execution_count": 22,
   "metadata": {},
   "outputs": [
    {
     "data": {
      "text/plain": [
       "Text(0.5, 1.0, 'the relation between r and c')"
      ]
     },
     "execution_count": 22,
     "metadata": {},
     "output_type": "execute_result"
    },
    {
     "data": {
      "image/png": "[encoded data removed]",
      "text/plain": [
       "<Figure size 432x288 with 1 Axes>"
      ]
     },
     "metadata": {
      "needs_background": "light"
     },
     "output_type": "display_data"
    }
   ],
   "source": [
    "plt.plot(r_repo,c_repo,marker='^',color = 'r',markersize=18, label='$\\epsilon=0.01$')\n",
    "plt.xlabel('r')\n",
    "plt.ylabel('c (minimum)')\n",
    "plt.title(\"the relation between r and c\")"
   ]
  },
  {
   "cell_type": "markdown",
   "metadata": {},
   "source": [
    "#### According to the figure above, c is related to the r which is consistent with the courses"
   ]
  }
 ],
 "metadata": {
  "kernelspec": {
   "display_name": "Python 3",
   "language": "python",
   "name": "python3"
  },
  "language_info": {
   "codemirror_mode": {
    "name": "ipython",
    "version": 3
   },
   "file_extension": ".py",
   "mimetype": "text/x-python",
   "name": "python",
   "nbconvert_exporter": "python",
   "pygments_lexer": "ipython3",
   "version": "3.7.6"
  }
 },
 "nbformat": 4,
 "nbformat_minor": 4
}
